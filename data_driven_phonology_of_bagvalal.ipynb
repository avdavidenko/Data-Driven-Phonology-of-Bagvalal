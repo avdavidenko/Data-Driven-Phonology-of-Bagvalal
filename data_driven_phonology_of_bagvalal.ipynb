{
 "cells": [
  {
   "cell_type": "markdown",
   "metadata": {},
   "source": [
    "# Работа со словарем"
   ]
  },
  {
   "cell_type": "code",
   "execution_count": 38,
   "metadata": {},
   "outputs": [],
   "source": [
    "from bs4 import BeautifulSoup as bs\n",
    "import re\n",
    "import pandas as pd"
   ]
  },
  {
   "cell_type": "code",
   "execution_count": 39,
   "metadata": {},
   "outputs": [],
   "source": [
    "input_file = 'bagv_dict.html'\n",
    "dict_beginning = 521\n",
    "dict_ending = 8265\n",
    "\n",
    "language = 'Bagvalal'\n",
    "glottolog = 'bagv1239'\n",
    "reference = 'Magomedova 2004' \n",
    "contributor = 'A. Davidenko'\n",
    "\n",
    "romanic = ['I', 'II', 'III']\n",
    "\n",
    "header_list = ['id', 'language', 'glottolog', 'reference',\n",
    "               'lemma_source', 'ending', 'pos', 'borrowing', 'dialect',\n",
    "               'translation_ru', 'contributor', 'source']\n",
    "\n",
    "dialect_list = ['(гим.)', '(кван.)', '(тлиб.)', '(тлис.)', '(тлон.)', \n",
    "                '(гим)', '(кван)', '(тлиб)', '(тлис)', '(тлон)', '(кван., гим.)']\n"
   ]
  },
  {
   "cell_type": "code",
   "execution_count": 40,
   "metadata": {},
   "outputs": [],
   "source": [
    "def preprocessing(text):\n",
    "    text = text.replace('<sup>Н</sup>', 'ᴴ')\n",
    "    text = text.replace('<sup>н</sup>', 'ᴴ')\n",
    "    text = text.replace('<sup>1</sup>', '¹')\n",
    "    text = text.replace('<sup>2</sup>', '²')\n",
    "    text = text.replace('<sup>2</sup>', '³')\n",
    "    return text"
   ]
  },
  {
   "cell_type": "code",
   "execution_count": 41,
   "metadata": {},
   "outputs": [],
   "source": [
    "def replacing(text):\n",
    "    text = text.replace('//²', '//́Э')\n",
    "    text = text.replace(': ²', ':́Э')\n",
    "    text = text.replace('/ ²', '/́Э')\n",
    "    if text[0] == '²':\n",
    "        text = '́Э' + text[1:]\n",
    "    if text[len(text)-1] == 'I':\n",
    "        text = text[:1]  \n",
    "    text = text.replace('ᴴ', 'ᴴ')\n",
    "    text = text.replace('\\xad', '')\n",
    "    text = text.replace('3', '³')\n",
    "    text = text.replace('\\n', ' ')\n",
    "    text = text.replace(\"P\", \"́И\")\n",
    "    text = text.replace('æ', '̄З')\n",
    "    text = text.replace('È', \"É\")\n",
    "    text = text.replace('E', 'Е')\n",
    "    text = text.replace('A', '̄С')\n",
    "    text = text.replace('Á̄I', '̄́А̄Л̄Ъ')\n",
    "    text = text.replace('ÁI', '́А̄Л̄Ъ')\n",
    "    text = text.replace('АI', 'А̄Л̄Ъ')\n",
    "    text = text.replace('ЕÁ', '̄Л́А')\n",
    "    text = text.replace('ЕÊ', '̄Л̄́А')\n",
    "    text = text.replace('ЕА', 'Л̄А')\n",
    "    text = text.replace('И´I', '́И ̄Л̄Ъ')\n",
    "    text = text.replace('ᴴI', 'ᴴ̄Л̄Ъ')\n",
    "    text = text.replace('Ą', '̄Р')\n",
    "    text = text.replace('Ā', 'Ā')\n",
    "    text = text.replace('À', 'Á')\n",
    "    text = text.replace('ä', '̄Б')\n",
    "    text = text.replace('Ê', 'Á̄')\n",
    "    text = text.replace('X', '̄И')\n",
    "    text = text.replace('R', '́И')\n",
    "    text = text.replace('Ç', '̄́О')\n",
    "    text = text.replace('N', 'X̄')\n",
    "    text = text.replace('Ð', '̄С̄I')\n",
    "    text = text.replace('Æ', 'Ē')\n",
    "    text = text.replace('∙', '́У')\n",
    "    text = text.replace('Z', 'Ӯ')\n",
    "    text = text.replace('ã', '̄М')\n",
    "    text = text.replace('ç', '̄Д')\n",
    "    text = text.replace('V', '̄Ч')\n",
    "    text = text.replace('Ë', '̄́Е')\n",
    "    text = text.replace('J', '̄Ч̄I')\n",
    "    text = text.replace('ć', \"̄К̄I\")\n",
    "    text = text.replace('Í', '̄́И')\n",
    "    text = text.replace(\"å\", \"̄Н\")\n",
    "    text = text.replace(\"ð\", \"̄К̄Ъ\")\n",
    "    text = text.replace(\"C\", \"̄К\")\n",
    "    text = text.replace(\"Ò\", \"́О\")\n",
    "    text = text.replace(\"Ē\", \"̄́Е\")\n",
    "    text = text.replace(\"M\", \"̄Ц̄I\")\n",
    "    text = text.replace(\"μ\", \"́У\")\n",
    "    text = text.replace(\"Î\", \"̄́У\")\n",
    "    text = text.replace(\"ċ\", \"̄Т̄I\")\n",
    "    text = text.replace(\"ЕЕ\", \"̄ЛЕ\")\n",
    "    text = text.replace(\"Нᴴ\", \"ᴴ\")\n",
    "    text = text.replace(' /', '/')\n",
    "    text = text.replace('/ ', '/')\n",
    "    text = text.replace(' :', ':')\n",
    "    text = text.replace(': ', ':')\n",
    "    text = text.replace(' )', ')')\n",
    "    text = text.replace('( ', '(')\n",
    "    text = text.replace(' -', '-')\n",
    "    text = text.replace('- ', '-')\n",
    "    text = text.replace('-', '–')\n",
    "    text = text.replace('1', '')\n",
    "    text = text.replace('2', '')\n",
    "    text = text.replace('III', '')\n",
    "    text = text.replace('II', '')\n",
    "    text = text.replace('~', '')\n",
    "    return text"
   ]
  },
  {
   "cell_type": "code",
   "execution_count": 42,
   "metadata": {},
   "outputs": [],
   "source": [
    "def not_lemma_replacing(text):\n",
    "    text = text.replace('B', 'с̄')\n",
    "    text = text.replace('S', 'ӣ')\n",
    "    text = text.replace('F', 'л̄')\n",
    "    text = text.replace('†', '́а̄')    \n",
    "    text = text.replace('Н', 'л̄ъ̄')\n",
    "    text = text.replace('Þ', 'н̄')\n",
    "    text = text.replace('}', 'е́̄')\n",
    "    text = text.replace('Y', 'ӣ')\n",
    "    text = text.replace('[', 'ӯ')\n",
    "    text = text.replace('ô', 'с̄Ī')\n",
    "    return(text)"
   ]
  },
  {
   "cell_type": "code",
   "execution_count": 43,
   "metadata": {},
   "outputs": [],
   "source": [
    "def ipaing(text):\n",
    "    text = text.replace(\"X̄\", \"-χː\")\n",
    "    text = text.replace(\"̄Ц̄I\", \"-t͡sː'\")\n",
    "    \n",
    "    text = text.replace(\"Āᴴ\", \"-ãː\")\n",
    "    text = text.replace(\"Áᴴ\", \"-ã'\")\n",
    "    text = text.replace(\"Аᴴ\", \"-ã\")\n",
    "    text = text.replace(\"Á̄\", \"-aː'\")\n",
    "    text = text.replace('̄́А', \"-aː'\")\n",
    "    text = text.replace(\"Á\", \"-a'\")\n",
    "    text = text.replace(\"́А\", \"-a'\")\n",
    "    text = text.replace(\"Á\", \"-a'\")\n",
    "    text = text.replace(\"Ā\", \"-aː\")\n",
    "    text = text.replace(\"̄А\", \"-aː\")\n",
    "    text = text.replace(\"А\", \"-a\")\n",
    "    \n",
    "    text = text.replace('̄Б', \"-bː\")\n",
    "    text = text.replace(\"Б\", \"-b\")\n",
    "    \n",
    "    text = text.replace(\"В\", \"-w\")\n",
    "    \n",
    "    text = text.replace(\"ГЬ\", \"-h\")\n",
    "    text = text.replace(\"ГЪ\", \"-ʁ\")\n",
    "    text = text.replace(\"ГI\", \"-ʕ\")    \n",
    "    text = text.replace(\"Г’\", \"-ɡʲ\")\n",
    "    text = text.replace(\"Г\", \"-ɡ\")\n",
    "    \n",
    "    text = text.replace(\"ДЖ\", \"-d͡ʒ\")\n",
    "    text = text.replace('̄Д', \"-dː\")\n",
    "    text = text.replace(\"Д\", \"-d\")\n",
    "    \n",
    "    text = text.replace(\"Ēᴴ\", \"-ẽː\")\n",
    "    text = text.replace(\"Éᴴ\", \"-ẽ'\")\n",
    "    text = text.replace(\"́Еᴴ\", \"-ẽ'\")\n",
    "    text = text.replace(\"Еᴴ\", \"-ẽ\")\n",
    "    text = text.replace(\"̄́Е\", \"-eː'\")\n",
    "    text = text.replace(\"É\", \"-e'\")\n",
    "    text = text.replace(\"Ē\", \"-eː\")\n",
    "    text = text.replace(\"Ē\", \"-eː\")\n",
    "    text = text.replace(\"Ē\", \"-eː\")\n",
    "    text = text.replace(\"̄Е\", \"-eː\")\n",
    "    text = text.replace(\"Е\", \"-e\")\n",
    "    \n",
    "    text = text.replace(\"Ж\", \"-ʒ\")\n",
    "    \n",
    "    text = text.replace('̄З', \"-zː\")\n",
    "    text = text.replace(\"З\", \"-z\")\n",
    "    \n",
    "    text = text.replace('Иᴴ', \"-ĩ\")\n",
    "    text = text.replace(\"̄́И\", \"-iː'\")\n",
    "    text = text.replace(\"̄И\", \"-iː\")\n",
    "    text = text.replace(\"́И\", \"-i'\")\n",
    "    text = text.replace(\"И\", \"-i\")\n",
    "    \n",
    "    text = text.replace(\"Й\", \"-j\")\n",
    "    \n",
    "    text = text.replace(\"К’\", \"-kʲ\")\n",
    "    text = text.replace(\"КI’\", \"-kʲ'\")\n",
    "    text = text.replace(\"КЬ\", \"-t͡ɬ'\")\n",
    "    text = text.replace(\"̄К̄Ъ\", \"-q͡χː'\")\n",
    "    text = text.replace(\"КЪ\", \"-q͡χ'\")\n",
    "    text = text.replace(\"̄К̄I\", \"-kː'\")\n",
    "    text = text.replace(\"КI\", \"-k'\")\n",
    "    text = text.replace(\"̄К\", \"-kː\")\n",
    "    text = text.replace(\"К\", \"-k\")\n",
    "    \n",
    "    \n",
    "    text = text.replace(\"ЛI\", \"-t͡ɬ\")\n",
    "    text = text.replace(\"ЛЪ\", \"-ɬ\")    \n",
    "    text = text.replace(\"̄Л̄Ъ\", \"-ɬː\")\n",
    "    text = text.replace(\"̄Л\", \"-lː\")\n",
    "    text = text.replace(\"Л\", \"-l\")\n",
    "    \n",
    "    text = text.replace(\"̄М\", \"-mː\")    \n",
    "    text = text.replace(\"М\", \"-m\")\n",
    "    \n",
    "    text = text.replace('̄Н', '-nː')\n",
    "    text = text.replace('НЬ', \"-n'\")\n",
    "    text = text.replace(\"Н\", \"-n\") \n",
    "    \n",
    "    text = text.replace(\"Ōᴴ\", \"-õː\")\n",
    "    text = text.replace(\"Óᴴ\", \"-õ'\")\n",
    "    text = text.replace(\"Оᴴ\", \"-õ\")\n",
    "    text = text.replace(\"̄́О\", \"-oː'\")\n",
    "    text = text.replace(\"Ó\", \"-o'\")\n",
    "    text = text.replace(\"́О\", \"-o'\")\n",
    "    text = text.replace(\"Ō\", \"-oː\")\n",
    "    text = text.replace(\"̄О\", \"-oː\")\n",
    "    text = text.replace(\"О\", \"-o\")\n",
    "    \n",
    "    text = text.replace(\"П\", \"-p\")\n",
    "    \n",
    "    text = text.replace('̄Р', \"-rː\")\n",
    "    text = text.replace(\"Р\", \"-r\") \n",
    "    \n",
    "    text = text.replace(\"̄С̄I\", \"-sː'\")\n",
    "    text = text.replace(\"СI\", \"-s'\" )    \n",
    "    text = text.replace(\"̄С\", \"-sː\")\n",
    "    text = text.replace(\"С\", \"-s\")\n",
    "    \n",
    "    text = text.replace(\"̄Т̄I\", \"-tː'\")\n",
    "    text = text.replace(\"ТI\", \"-t'\")\n",
    "    text = text.replace(\"Т\", \"-t\") \n",
    "    \n",
    "    text = text.replace(\"Уᴴ\", \"-ũ\")\n",
    "    text = text.replace(\"́̄У\", \"-uː'\")\n",
    "    text = text.replace(\"̄́У\", \"-uː'\")\n",
    "    text = text.replace(\"̄У\", \"-uː\")\n",
    "    text = text.replace(\"Ӯ\", \"-uː\")\n",
    "    text = text.replace(\"́У\", \"-u'\")\n",
    "    text = text.replace(\"У\", \"-u\")\n",
    "    \n",
    "    text = text.replace(\"ХЪ\", \"-q͡χ\")\n",
    "    text = text.replace(\"ХЬ\", \"-x\")\n",
    "    text = text.replace(\"ХI\", \"-χ'\")\n",
    "    text = text.replace(\"X̄\", \"-χː\")\n",
    "    text = text.replace(\"̄Х\", \"-χː\")\n",
    "    text = text.replace(\"Xь\", \"-x\")\n",
    "    text = text.replace(\"Хь\", \"-x\")\n",
    "    text = text.replace(\"X\", \"-χ\")\n",
    "    text = text.replace(\"Х\", \"-χ\")\n",
    "    \n",
    "    text = text.replace(\"ЦI\", \"-t͡s'\")\n",
    "    text = text.replace(\"Ц\", \"-t͡s\")\n",
    "    \n",
    "    text = text.replace(\"̄Ч̄I\", \"-t͡ʃː'\")\n",
    "    text = text.replace(\"ЧI\", \"-t͡ʃ'\")\n",
    "    text = text.replace(\"̄Ч\", \"-t͡ʃː\")\n",
    "    text = text.replace(\"Ч\", \"-t͡ʃ\")\n",
    "    \n",
    "    text = text.replace(\"Ш\", \"-ʃ\")\n",
    "    \n",
    "    text = text.replace(\"ЩI\", \"-ʃː'\")\n",
    "    text = text.replace(\"Щ\", \"-ʃː\")\n",
    "    \n",
    "    text = text.replace(\"Ъ\", \"-ʔ\") \n",
    "    \n",
    "    text = text.replace(\"́Э\", \"-e'\")\n",
    "    text = text.replace(\"Э\", \"-e\")\n",
    "    \n",
    "    text = text.replace(\"I\", \"-ɬː\")\n",
    "    text = text.replace(\"´\", \"-u'\")\n",
    "\n",
    "    text = text.replace(\"-k-w\", \"-kʷ\")\n",
    "    text = text.replace(\"-k'-w\", \"-k'ʷ\")\n",
    "    text = text.replace(\"-ɡ-w\", \"-ɡʷ\")\n",
    "    text = text.replace(\"-h-w\", \"-hʷ\")\n",
    "    text = text.replace(\"-ʁ-w\", \"-ʁʷ\")\n",
    "    text = text.replace(\"-t͡ɬ-w\", \"-t͡ɬʷ\")\n",
    "    text = text.replace(\"-q͡χ-w\", \"-q͡χʷ\")\n",
    "    text = text.replace(\"-q͡χ'-w\", \"-q͡χ'ʷ\")\n",
    "    text = text.replace(\"-t͡ɬ'-w\", \"-t͡ɬ'ʷ\")\n",
    "    text = text.replace(\"-t͡ʃ'-w\", \"-t͡ʃ'ʷ\")\n",
    "    text = text.replace(\"-t'-w\", \"-t'ʷ\")\n",
    "    text = text.replace(\"-χː-w\", \"-χːʷ\")\n",
    "    text = text.replace(\"-t͡ʃ-w\", \"-t͡ʃʷ\")\n",
    "    text = text.replace(\"-ʃː-w\", \"-ʃːʷ\")\n",
    "    text = text.replace(\"-x-w\", \"-xʷ\")\n",
    "    text = text.replace(\"-ʃː'-w\", \"-ʃː'ʷ\")\n",
    "    text = text.replace(\"-d-w\", \"-dʷ\")\n",
    "    text = text.replace(\"-ʒ-w\", \"-ʒʷ\")\n",
    "    text = text.replace(\"-s-w\", \"-sʷ\")\n",
    "    text = text.replace(\"-sː-w\", \"-sːʷ\")\n",
    "    text = text.replace(\"-kː'-w\", \"-kː'ʷ\")\n",
    "    text = text.replace(\"-sː'-w\", \"-sː'ʷ\")\n",
    "    text = text.replace(\"-χ-w\", \"-χʷ\")\n",
    "    text = text.replace(\"-z-w\", \"-zʷ\")\n",
    "    text = text.replace(\"-r-w\", \"-rʷ\")\n",
    "    text = text.replace(\"-t-w\", \"-tʷ\")\n",
    "    text = text.replace(\"-l-w\", \"-lʷ\")\n",
    "    text = text.replace(\"-n-w\", \"-nʷ\")\n",
    "    text = text.replace(\"-t͡s'-w\", \"-t͡s'ʷ\")\n",
    "    \n",
    "    text = text.replace(\"¹\", \"\")\n",
    "    text = text.replace(\"²\", \"\")\n",
    "    text = text.replace(\"³\", \"\")\n",
    "    text = text.replace(\"/\", \"\")\n",
    "    text = text.replace(\"//-\", \"//\")\n",
    "    text = text.replace(' -', '-')\n",
    "    text = text.replace(' ', '-')\n",
    "    text = text.replace(':-', '-')\n",
    "    text = text.replace(\"!\", \"\")\n",
    "    text = text.replace('--', '-')\n",
    "    text = text.replace('–', '-')\n",
    "\n",
    "    if len(text) > 0 and text[0] == '-':\n",
    "        text = text[1:]\n",
    "    if len(text) > 0 and text[len(text)-1] == '-':\n",
    "        text = text[:1]\n",
    "    return text"
   ]
  },
  {
   "cell_type": "code",
   "execution_count": 44,
   "metadata": {},
   "outputs": [],
   "source": [
    "with open(input_file, 'r', encoding='utf-8') as f: \n",
    "    text = f.read()"
   ]
  },
  {
   "cell_type": "code",
   "execution_count": 45,
   "metadata": {},
   "outputs": [],
   "source": [
    "text = preprocessing(text)"
   ]
  },
  {
   "cell_type": "code",
   "execution_count": 46,
   "metadata": {},
   "outputs": [],
   "source": [
    "soup = bs(text,'html.parser')\n",
    "lines = soup.find_all('p')"
   ]
  },
  {
   "cell_type": "markdown",
   "metadata": {},
   "source": [
    "## Извлечение информации"
   ]
  },
  {
   "cell_type": "code",
   "execution_count": 47,
   "metadata": {},
   "outputs": [],
   "source": [
    "borrowed = pd.read_csv('borrowings_list.csv')\n",
    "borrowings = borrowed.loc[borrowed['borrowing'] == 1.0]\n",
    "borrowing_list = list(borrowings['lemma_source'])"
   ]
  },
  {
   "cell_type": "code",
   "execution_count": 48,
   "metadata": {},
   "outputs": [],
   "source": [
    "i = dict_beginning\n",
    "df_data = []\n",
    "while i < dict_ending + 1:\n",
    "    lemma_source = ''\n",
    "    pos = ''\n",
    "    borrowing = 0\n",
    "    translation_ru = ''\n",
    "    dialect = ''\n",
    "    ending = ''\n",
    "    text = replacing(lines[i].get_text())\n",
    "    str_line = str(lines[i]).replace('\\n', ' ')\n",
    "        \n",
    "    regBrackets = re.compile('\\(.+?\\)')\n",
    "    brackets = regBrackets.findall(text)\n",
    "    if len(brackets) > 0:\n",
    "        if brackets[0] in dialect_list:\n",
    "            dialect = brackets[0]\n",
    "            text = text.replace(dialect, '')\n",
    "        else:\n",
    "            ending = brackets[0]\n",
    "            text = text.replace(ending, '')\n",
    "            ending = not_lemma_replacing(ending)\n",
    "                    \n",
    "    splitted_text = text.split()\n",
    "    if len(splitted_text) > 1:\n",
    "        lemma_source = splitted_text[0]\n",
    "        text = text.replace (splitted_text[0], '')\n",
    "        if ':' in splitted_text[0]:\n",
    "            lemma_source = lemma_source + ' ' + splitted_text[1]\n",
    "            text = text.replace(splitted_text[1], '')\n",
    "            upper_case = splitted_text[2].isupper()\n",
    "            if upper_case == True:\n",
    "                lemma_source = lemma_source + ' ' + splitted_text[2]\n",
    "                text = text.replace(splitted_text[2], '')\n",
    "                \n",
    "        translation_ru = not_lemma_replacing(text)\n",
    "        \n",
    "        if '//' in lemma_source:\n",
    "            lemma_pieces = lemma_source.split('//')\n",
    "            for piece in lemma_pieces:\n",
    "                if piece in borrowing_list:\n",
    "                    borrowing = 1\n",
    "                data = [i, language, glottolog, reference, piece, \n",
    "                        ending, pos, borrowing, dialect, \n",
    "                        translation_ru, contributor, str_line]\n",
    "                df_data.append(data)\n",
    "                \n",
    "        elif '/' in lemma_source:\n",
    "            lemma_pieces = lemma_source.split('/')\n",
    "            if len(lemma_pieces) == 2 and len(lemma_pieces[0]) == len(lemma_pieces[1]):\n",
    "                set1 = set(ipaing(lemma_pieces[0]).split('-'))\n",
    "                set2 = set(ipaing(lemma_pieces[1]).split('-'))\n",
    "                set3 = set1.difference(set2)\n",
    "                if len(set3) < 2 and len(set1) > 1:\n",
    "                    for piece in lemma_pieces:\n",
    "                        if piece in borrowing_list:\n",
    "                            borrowing = 1\n",
    "                        data = [i, language, glottolog, reference, piece, \n",
    "                            ending, pos, borrowing, dialect, \n",
    "                            translation_ru, contributor, str_line]\n",
    "                    df_data.append(data)\n",
    "            else:\n",
    "                if lemma_source in borrowing_list:\n",
    "                    borrowing = 1\n",
    "                data = [i, language, glottolog, reference, lemma_source, \n",
    "                        ending, pos, borrowing, dialect, \n",
    "                        translation_ru, contributor, str_line]\n",
    "                df_data.append(data)\n",
    "                \n",
    "        else:\n",
    "            if lemma_source in borrowing_list:\n",
    "                borrowing = 1\n",
    "            data = [i, language, glottolog, reference, lemma_source, \n",
    "                    ending, pos, borrowing, dialect, \n",
    "                    translation_ru, contributor, str_line]\n",
    "            df_data.append(data)\n",
    "    i +=1"
   ]
  },
  {
   "cell_type": "code",
   "execution_count": 49,
   "metadata": {},
   "outputs": [],
   "source": [
    "df = pd.DataFrame(df_data, columns = header_list)"
   ]
  },
  {
   "cell_type": "code",
   "execution_count": 50,
   "metadata": {},
   "outputs": [],
   "source": [
    "df.to_csv('bagv_dict.csv', index=False)"
   ]
  },
  {
   "cell_type": "markdown",
   "metadata": {},
   "source": [
    "# Перевод в IPA"
   ]
  },
  {
   "cell_type": "code",
   "execution_count": 51,
   "metadata": {},
   "outputs": [],
   "source": [
    "for_df2 = {}\n",
    "for_df2['id'] = df['id']\n",
    "for_df2['lemma'] = df['lemma_source']\n",
    "for_df2['ipa'] = ''\n",
    "for_df2['borrowing'] = df['borrowing']\n",
    "for_df2['translation'] = df['translation_ru']\n",
    "\n",
    "df2 = pd.DataFrame(for_df2)"
   ]
  },
  {
   "cell_type": "code",
   "execution_count": 52,
   "metadata": {},
   "outputs": [],
   "source": [
    "lemmas_ipa = []\n",
    "lemmas = []\n",
    "for lemma in df2['lemma']:\n",
    "    lemmas.append(lemma)\n",
    "    ipa = ipaing(lemma)\n",
    "    lemmas_ipa.append(ipa)\n",
    "\n",
    "df2['ipa'] = lemmas_ipa"
   ]
  },
  {
   "cell_type": "code",
   "execution_count": 53,
   "metadata": {},
   "outputs": [],
   "source": [
    "df2.to_csv('bagv_ipa.csv', index=False)"
   ]
  },
  {
   "cell_type": "code",
   "execution_count": 54,
   "metadata": {},
   "outputs": [],
   "source": [
    "for_all = {}\n",
    "for_all['id'] = df['id']\n",
    "for_all['language'] = df['language']\n",
    "for_all['glottolog'] = df['glottolog']\n",
    "for_all['reference'] = df['reference']\n",
    "for_all['lemma'] = df['lemma_source']\n",
    "for_all['ipa'] = df2['ipa']\n",
    "for_all['borrowing'] = df['borrowing']\n",
    "for_all['dialect'] = df['dialect']\n",
    "for_all['meaning'] = df['translation_ru']\n",
    "for_all['contributor'] = df['contributor']\n",
    "\n",
    "df_all = pd.DataFrame(for_all)"
   ]
  },
  {
   "cell_type": "markdown",
   "metadata": {},
   "source": [
    "# Деление на звуки"
   ]
  },
  {
   "cell_type": "code",
   "execution_count": 55,
   "metadata": {},
   "outputs": [],
   "source": [
    "import re\n",
    "import matplotlib.pyplot as plt"
   ]
  },
  {
   "cell_type": "code",
   "execution_count": 56,
   "metadata": {},
   "outputs": [],
   "source": [
    "all_sounds = {}\n",
    "splitters = \"[-/—: ,.]+\"\n",
    "for lemma_ipa in df2['ipa']:\n",
    "    if len(lemma_ipa) > 0:\n",
    "        sounds = re.split(splitters, lemma_ipa)\n",
    "        for sound in sounds:\n",
    "            if (sound not in all_sounds) and (sound != ''):\n",
    "                all_sounds[sound] = 1\n",
    "            elif sound != '':\n",
    "                all_sounds[sound] += 1"
   ]
  },
  {
   "cell_type": "code",
   "execution_count": 57,
   "metadata": {},
   "outputs": [],
   "source": [
    "for_sounds ={}\n",
    "for_sounds['sound'] = list(all_sounds.keys())\n",
    "for_sounds['number'] = list(all_sounds.values())\n",
    "sounds_df = pd.DataFrame(for_sounds)"
   ]
  },
  {
   "cell_type": "code",
   "execution_count": 58,
   "metadata": {},
   "outputs": [],
   "source": [
    "sounds_df = sounds_df.sort_values(by='number', ascending=False)"
   ]
  },
  {
   "cell_type": "code",
   "execution_count": 59,
   "metadata": {},
   "outputs": [],
   "source": [
    "vwls = ['a', 'aː', 'ã', 'ãː', 'a’', 'e', 'eː', 'ẽ', 'ẽː', 'i', 'iː', 'ĩ', 'o', 'oː', 'õ', 'õː', 'u', 'uː', 'ũ']\n",
    "s_vwls = [\"a'\", \"aː'\", \"ã'\", \"e'\", \"eː'\", \"ẽ'\", \"i'\", \"iː'\", \"o'\", \"oː'\", \"õ'\", \"u'\", \"uː'\"]\n",
    "\n",
    "cons = []\n",
    "for sound in sounds_df['sound']:\n",
    "    if (sound not in vwls) and (sound not in s_vwls):\n",
    "        cons.append(sound)"
   ]
  },
  {
   "cell_type": "markdown",
   "metadata": {},
   "source": [
    "# Инициали и финали"
   ]
  },
  {
   "cell_type": "code",
   "execution_count": 60,
   "metadata": {},
   "outputs": [],
   "source": [
    "inits = []\n",
    "len_inits = []\n",
    "\n",
    "for ipa in df2['ipa']:\n",
    "    an_init = []\n",
    "    for sound in ipa.split('-'):\n",
    "        if (sound in vwls) or (sound in s_vwls):\n",
    "            if len(an_init) == 0:\n",
    "                an_init.append('#')\n",
    "                break\n",
    "            else:\n",
    "                break\n",
    "        else:\n",
    "            an_init.append(sound)\n",
    "    inits.append(an_init)\n",
    "    \n",
    "for i in inits:\n",
    "    if i[0] == '#':\n",
    "        len_inits.append(0)\n",
    "    else:\n",
    "        len_inits.append(len(i))"
   ]
  },
  {
   "cell_type": "code",
   "execution_count": 61,
   "metadata": {},
   "outputs": [],
   "source": [
    "fins = []\n",
    "len_fins = []\n",
    "for ipa in df2['ipa']:\n",
    "    a_fin = []\n",
    "    ipa = ipa.split('-')\n",
    "    ipa.reverse()\n",
    "    for sound in ipa:\n",
    "        if sound in vwls or sound in s_vwls:\n",
    "            if len(a_fin) == 0:\n",
    "                a_fin.append('#')\n",
    "                break\n",
    "            else:\n",
    "                break\n",
    "        else:\n",
    "            a_fin.append(sound) \n",
    "    a_fin.reverse()\n",
    "    fins.append(a_fin)\n",
    "    \n",
    "for i in fins:\n",
    "    if i[0] == '#':\n",
    "        len_fins.append(0)\n",
    "    else:\n",
    "        len_fins.append(len(i))\n",
    "        "
   ]
  },
  {
   "cell_type": "code",
   "execution_count": 62,
   "metadata": {},
   "outputs": [],
   "source": [
    "df2['inits'] = inits\n",
    "df2['len_inits'] = len_inits\n",
    "df2['fins'] = fins\n",
    "df2['len_fins'] = len_fins"
   ]
  },
  {
   "cell_type": "markdown",
   "metadata": {},
   "source": [
    "# Интервокальные кластеры"
   ]
  },
  {
   "cell_type": "code",
   "execution_count": 63,
   "metadata": {},
   "outputs": [],
   "source": [
    "inters = []\n",
    "len_inters = []\n",
    "max_inters = []\n",
    "\n",
    "for ipa in df2['ipa']:\n",
    "    for vwl in s_vwls:\n",
    "        ipa = ipa.replace(vwl, 'VV')\n",
    "    for vwl in vwls:\n",
    "        ipa = ipa.replace(vwl, 'VV')\n",
    "    intervoc =  re.findall('V(.+?)V', ipa)\n",
    "    new_intervoc = []\n",
    "    for inter in intervoc:\n",
    "        inter = inter.replace('-', '')\n",
    "        inter = inter.replace('V', '')\n",
    "        new_intervoc.append(inter)\n",
    "    inters.append(new_intervoc)\n",
    "\n",
    "for inter in inters:\n",
    "    len_inters.append(len(inter))\n",
    "    max_len = 0\n",
    "    for i in inter:\n",
    "        length = len(i)\n",
    "        afr_num = 0\n",
    "        ap_num = 0\n",
    "        up_num = 0\n",
    "        for symbol in i:\n",
    "            if symbol == '͡':\n",
    "                afr_num += 1\n",
    "            if symbol == \"'\" or symbol == \"ː\":\n",
    "                ap_num += 1\n",
    "            if symbol == \"ʷ\" or symbol == \"ʲ\":\n",
    "                up_num += 1\n",
    "        length = length - 2*afr_num - ap_num - up_num\n",
    "        if length > max_len:\n",
    "            max_len = length\n",
    "    max_inters.append(max_len)\n"
   ]
  },
  {
   "cell_type": "code",
   "execution_count": 64,
   "metadata": {},
   "outputs": [],
   "source": [
    "for_all = {}\n",
    "for_all['id'] = df['id']\n",
    "for_all['language'] = df['language']\n",
    "for_all['glottolog'] = df['glottolog']\n",
    "for_all['reference'] = df['reference']\n",
    "for_all['lemma'] = df['lemma_source']\n",
    "for_all['ipa'] = df2['ipa']\n",
    "for_all['initials'] = df2['inits']\n",
    "for_all['init_length'] = df2['len_inits']\n",
    "for_all['finals'] = df2['fins']\n",
    "for_all['fin_length'] = df2['len_fins']\n",
    "for_all['borrowing'] = df['borrowing']\n",
    "for_all['intervocal'] = inters\n",
    "for_all['inter_number'] = len_inters\n",
    "for_all['max_length'] = max_inters\n",
    "for_all['dialect'] = df['dialect']\n",
    "for_all['meaning'] = df['translation_ru']\n",
    "for_all['contributor'] = df['contributor']\n",
    "for_all['source'] = df['source']\n",
    "\n",
    "df_all = pd.DataFrame(for_all)"
   ]
  },
  {
   "cell_type": "code",
   "execution_count": 65,
   "metadata": {},
   "outputs": [],
   "source": [
    "df_all.to_csv('bagv_data.csv')"
   ]
  },
  {
   "cell_type": "markdown",
   "metadata": {},
   "source": [
    "## Ударения"
   ]
  },
  {
   "cell_type": "code",
   "execution_count": 66,
   "metadata": {},
   "outputs": [],
   "source": [
    "df_final = df_all.loc[df_all['borrowing'] != 1.0]"
   ]
  },
  {
   "cell_type": "code",
   "execution_count": 67,
   "metadata": {},
   "outputs": [],
   "source": [
    "stressed_syllable = []\n",
    "num_of_syllables = []\n",
    "for ipa in df_final['ipa'].to_list():\n",
    "    vowels_a = []\n",
    "    for i in ipa.split('-'):\n",
    "        if i in vwls or i in s_vwls:\n",
    "            vowels_a.append(i)\n",
    "    num_of_syllables.append(len(vowels_a))\n",
    "    c = 0\n",
    "    if len(vowels_a) == 1:\n",
    "        stressed_syllable.append(1)\n",
    "    else:\n",
    "        for i in vowels_a:\n",
    "            if i in s_vwls:\n",
    "                stressed_syllable.append(c+1)\n",
    "                break\n",
    "            c+=1\n",
    "        if c == len(vowels_a):\n",
    "            stressed_syllable.append('no info')"
   ]
  },
  {
   "cell_type": "code",
   "execution_count": 68,
   "metadata": {},
   "outputs": [
    {
     "name": "stderr",
     "output_type": "stream",
     "text": [
      "<ipython-input-68-135c9981d21b>:1: SettingWithCopyWarning: \n",
      "A value is trying to be set on a copy of a slice from a DataFrame.\n",
      "Try using .loc[row_indexer,col_indexer] = value instead\n",
      "\n",
      "See the caveats in the documentation: https://pandas.pydata.org/pandas-docs/stable/user_guide/indexing.html#returning-a-view-versus-a-copy\n",
      "  df_final['stressed'] = stressed_syllable\n",
      "<ipython-input-68-135c9981d21b>:2: SettingWithCopyWarning: \n",
      "A value is trying to be set on a copy of a slice from a DataFrame.\n",
      "Try using .loc[row_indexer,col_indexer] = value instead\n",
      "\n",
      "See the caveats in the documentation: https://pandas.pydata.org/pandas-docs/stable/user_guide/indexing.html#returning-a-view-versus-a-copy\n",
      "  df_final['syl_number'] = num_of_syllables\n"
     ]
    }
   ],
   "source": [
    "df_final['stressed'] = stressed_syllable\n",
    "df_final['syl_number'] = num_of_syllables"
   ]
  },
  {
   "cell_type": "code",
   "execution_count": 69,
   "metadata": {},
   "outputs": [],
   "source": [
    "new_final = df_final.loc[df_final['syl_number'] < 4]\n",
    "new_final = new_final.loc[new_final['syl_number'] > 1]"
   ]
  },
  {
   "cell_type": "code",
   "execution_count": 70,
   "metadata": {},
   "outputs": [
    {
     "data": {
      "image/png": "[encoded data removed]",
      "text/plain": [
       "<Figure size 432x288 with 1 Axes>"
      ]
     },
     "metadata": {
      "needs_background": "light"
     },
     "output_type": "display_data"
    }
   ],
   "source": [
    "ax = new_final['stressed'].value_counts(sort=False).plot.bar()\n",
    "plt.title('Ударные слоги')\n",
    "plt.ylabel('Количество лемм')\n",
    "plt.xlabel('Номер слога')\n",
    "for p in ax.patches:\n",
    "    ax.annotate(str(p.get_height()), (p.get_x(), p.get_height()))"
   ]
  },
  {
   "cell_type": "code",
   "execution_count": null,
   "metadata": {},
   "outputs": [],
   "source": []
  }
 ],
 "metadata": {
  "kernelspec": {
   "display_name": "Python 3",
   "language": "python",
   "name": "python3"
  },
  "language_info": {
   "codemirror_mode": {
    "name": "ipython",
    "version": 3
   },
   "file_extension": ".py",
   "mimetype": "text/x-python",
   "name": "python",
   "nbconvert_exporter": "python",
   "pygments_lexer": "ipython3",
   "version": "3.8.1"
  }
 },
 "nbformat": 4,
 "nbformat_minor": 4
}
